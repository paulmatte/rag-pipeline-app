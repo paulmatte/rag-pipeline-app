{
 "cells": [
  {
   "cell_type": "markdown",
   "id": "7f986c10-34b9-4ae6-afe5-ee069fb98937",
   "metadata": {},
   "source": [
    "# Setup environment"
   ]
  },
  {
   "cell_type": "markdown",
   "id": "aaefa21a-f7f2-49de-881a-14fdfc883497",
   "metadata": {},
   "source": [
    "## Install dependencies"
   ]
  },
  {
   "cell_type": "code",
   "execution_count": 1,
   "id": "e4422755-702a-431a-9e8a-191fcb4b9526",
   "metadata": {},
   "outputs": [],
   "source": [
    "# !pip install openai\n",
    "# !python -m pip install python-dotenv\n",
    "# !pip install --upgrade langchain\n",
    "# !pip install faiss-cpu\n",
    "# !pip install langchain-huggingface\n",
    "# !pip install sentence-transformers"
   ]
  },
  {
   "cell_type": "code",
   "execution_count": 7,
   "id": "64af0eaa-d810-41ba-8bd6-3d9124f38dea",
   "metadata": {},
   "outputs": [],
   "source": [
    "!source .env/bin/activate"
   ]
  },
  {
   "cell_type": "markdown",
   "id": "bb275259-fec8-469c-b206-82dd7afbb84f",
   "metadata": {},
   "source": [
    "## Initlize config dictionary"
   ]
  },
  {
   "cell_type": "raw",
   "id": "d27d0300-a2b2-441a-b318-21959ebf4c30",
   "metadata": {},
   "source": [
    "We are have a config.json that has necessary keys, like openai key, to run the RAG application"
   ]
  },
  {
   "cell_type": "code",
   "execution_count": 23,
   "id": "3b96fabb-f8a6-4d3d-8aaf-58b1c9e0df21",
   "metadata": {},
   "outputs": [
    {
     "name": "stdout",
     "output_type": "stream",
     "text": [
      "sentence-transformers/all-mpnet-base-v2\n"
     ]
    }
   ],
   "source": [
    "import json\n",
    "with open(\"./resources/config.json\") as f:\n",
    "    config = json.load(f)\n",
    "\n",
    "print(config[\"embedding_model\"])"
   ]
  },
  {
   "cell_type": "markdown",
   "id": "30fee740-ff55-457b-ae8c-60b87ebfdcbd",
   "metadata": {},
   "source": [
    "## Create embeddings using open-source hugginngface embedding model"
   ]
  },
  {
   "cell_type": "code",
   "execution_count": 3,
   "id": "38467ccb-3fb8-4cc0-b97a-bebf4ac996a4",
   "metadata": {},
   "outputs": [],
   "source": [
    "from langchain_community.document_loaders import PyPDFLoader\n",
    "from langchain_community.vectorstores import FAISS\n",
    "from langchain.embeddings import HuggingFaceEmbeddings\n",
    "from langchain.text_splitter import RecursiveCharacterTextSplitter"
   ]
  },
  {
   "cell_type": "code",
   "execution_count": 7,
   "id": "df1f5426-1b93-4427-9a2b-c97e57e20037",
   "metadata": {},
   "outputs": [],
   "source": [
    "# initilize loader to load the pdf file\n",
    "loader = PyPDFLoader(\"./sample_data/jeff102.pdf\")"
   ]
  },
  {
   "cell_type": "code",
   "execution_count": 8,
   "id": "4248ed65-1e86-4f6c-9a49-b7bb13de2314",
   "metadata": {},
   "outputs": [],
   "source": [
    "# initilze the document client using the loader client already created\n",
    "document = loader.load()"
   ]
  },
  {
   "cell_type": "code",
   "execution_count": 9,
   "id": "55de6667-68f9-4870-8a7d-dfbe48e7f660",
   "metadata": {},
   "outputs": [
    {
     "data": {
      "text/plain": [
       "langchain_core.documents.base.Document"
      ]
     },
     "execution_count": 9,
     "metadata": {},
     "output_type": "execute_result"
    }
   ],
   "source": [
    "# Check the type of the document\n",
    "type(document[0])"
   ]
  },
  {
   "cell_type": "code",
   "execution_count": 10,
   "id": "f82fab91-0332-407d-891c-3e456d6d672e",
   "metadata": {},
   "outputs": [],
   "source": [
    "# Split the document into smaller chuck and make the overlap of 100 character between the chucks for efficent retrieval\n",
    "text_splitter = RecursiveCharacterTextSplitter(\n",
    "    chunk_size=1000,\n",
    "    chunk_overlap=100\n",
    ")\n",
    "\n",
    "chunks = text_splitter.split_documents(document)"
   ]
  },
  {
   "cell_type": "code",
   "execution_count": 11,
   "id": "e755b57a-25dd-4f17-8a35-fb671950e68d",
   "metadata": {},
   "outputs": [
    {
     "name": "stdout",
     "output_type": "stream",
     "text": [
      "34\n",
      "<class 'list'>\n",
      "<class 'langchain_core.documents.base.Document'>\n",
      "page_content='BEFORE YOU READ\\n•‘Apartheid’ is a political system that separates people according\\nto their race. Can you say which of the three countries named\\nbelow had such a political system until very recently?\\n(i)  United States of America (ii)  South Africa (iii)  Australia\\n•Have you heard of Nelson Mandela? Mandela, and his African\\nNational Congress, spent a lifetime fighting against apartheid.\\nMandela had to spend thirty years in prison. Finally, democratic\\nelections were held in South Africa in 1994, and Mandela became\\nthe first black President of a new nation.\\nIn this extract fr om his autobiography, Long W alk to Fr eedom ,\\nMandela speaks about a historic occasion, ‘the inauguration’. Can\\nyou guess what the occasion might be? Check your guess with\\nthis news item (from the BBC) of  10 May 1994.\\n     Mandela Becomes South Africa’s First Black President\\nNelson Mandela has become South Africa’s first Black\\nPresident after more than three centuries of White rule.' metadata={'source': './sample_data/jeff102.pdf', 'page': 0}\n",
      "page_content='President after more than three centuries of White rule.\\nMr Mandela’s African National Congress (ANC) party won\\n252 of the 400 seats in the first democratic elections of South\\nAfrica’s history.\\nThe inauguration ceremony took place in the Union\\nBuildings amphitheatre in Pretoria today, attended by\\npoliticians and dignitaries from more than 140 countries\\naround the world. “Never , never again will this beautiful land\\nexperience the oppr ession of one by another , ” said Nelson\\nMandela in his address.\\n… Jubilant scenes on the streets of Pretoria followed the\\nceremony with blacks, whites and coloureds celebrating\\ntogether ... Mor e than 100,000 South African men, women\\nand children of all races sang and danced with joy.\\nRationalised 2023-24' metadata={'source': './sample_data/jeff102.pdf', 'page': 0}\n"
     ]
    }
   ],
   "source": [
    "print(len(chunks))\n",
    "print(type(chunks))\n",
    "print(type(chunks[0]))\n",
    "\n",
    "# we can see the chucks with overlaping characters and also the meta data\n",
    "print(chunks[0])\n",
    "print(chunks[1])"
   ]
  },
  {
   "cell_type": "code",
   "execution_count": 18,
   "id": "ec573387-8105-4dec-8442-24d32f41f750",
   "metadata": {},
   "outputs": [],
   "source": [
    "# initilize embedding client\n",
    "embedding_client = HuggingFaceEmbeddings(model_name=config['embedding_model'])"
   ]
  },
  {
   "cell_type": "code",
   "execution_count": 12,
   "id": "5eabbe00-3780-4f3d-9502-97cf1f81587d",
   "metadata": {},
   "outputs": [
    {
     "data": {
      "text/plain": [
       "HuggingFaceEmbeddings(client=SentenceTransformer(\n",
       "  (0): Transformer({'max_seq_length': 384, 'do_lower_case': False}) with Transformer model: MPNetModel \n",
       "  (1): Pooling({'word_embedding_dimension': 768, 'pooling_mode_cls_token': False, 'pooling_mode_mean_tokens': True, 'pooling_mode_max_tokens': False, 'pooling_mode_mean_sqrt_len_tokens': False, 'pooling_mode_weightedmean_tokens': False, 'pooling_mode_lasttoken': False, 'include_prompt': True})\n",
       "  (2): Normalize()\n",
       "), model_name='sentence-transformers/all-mpnet-base-v2', cache_folder=None, model_kwargs={}, encode_kwargs={}, multi_process=False, show_progress=False)"
      ]
     },
     "execution_count": 12,
     "metadata": {},
     "output_type": "execute_result"
    }
   ],
   "source": [
    "embedding_client"
   ]
  },
  {
   "cell_type": "code",
   "execution_count": 16,
   "id": "cceb1a41-0e08-4cc9-bcf5-112e0fdfd08f",
   "metadata": {},
   "outputs": [],
   "source": [
    "# Create vector db and index using FAISS\n",
    "vectorstore = FAISS.from_documents(chunks, embedding_client)\n",
    "vectorstore.save_local(config['vector_db_path'])"
   ]
  },
  {
   "cell_type": "markdown",
   "id": "ca27b6cc-b292-4795-8413-64c17c9729e5",
   "metadata": {},
   "source": [
    "## Perform Retierival process"
   ]
  },
  {
   "cell_type": "code",
   "execution_count": 31,
   "id": "70df1913-e648-440b-acc3-b0c159349abb",
   "metadata": {},
   "outputs": [],
   "source": [
    "from langchain_openai import ChatOpenAI\n",
    "from langchain_core.prompts import ChatPromptTemplate\n",
    "from langchain.chains import create_retrieval_chain\n",
    "from langchain.chains.combine_documents import create_stuff_documents_chain"
   ]
  },
  {
   "cell_type": "code",
   "execution_count": 25,
   "id": "7276726d-9902-470e-adcd-f46c733fabf9",
   "metadata": {},
   "outputs": [],
   "source": [
    "# inililize the llm model we will be using openAI llm model\n",
    "llm = ChatOpenAI(\n",
    "    api_key=config['openai_api_key'],\n",
    "    model=config['openai_model']\n",
    ")"
   ]
  },
  {
   "cell_type": "code",
   "execution_count": 26,
   "id": "7a7d5b41-1f26-40b7-aac9-99b66d9b3db7",
   "metadata": {},
   "outputs": [],
   "source": [
    "# laod embeddings\n",
    "vectorstore = FAISS.load_local(config['vector_db_path'], embedding_client, allow_dangerous_deserialization=True)"
   ]
  },
  {
   "cell_type": "code",
   "execution_count": 27,
   "id": "96f4726a-1401-4995-a53a-0462d59f898d",
   "metadata": {},
   "outputs": [],
   "source": [
    "# inililize retriever\n",
    "retriever = vectorstore.as_retriever()"
   ]
  },
  {
   "cell_type": "code",
   "execution_count": 41,
   "id": "9a82475c-ce60-43e5-8f7a-414772c4a39b",
   "metadata": {},
   "outputs": [],
   "source": [
    "# do some prompt engineering\n",
    "system_prompt = (\n",
    "    \"\"\"\n",
    "    You are an assistant for question-answering tasks.\n",
    "    Use the following pieces of retrieved context to answer\n",
    "    the question. Please be stick with the context and embeddings given to you. If you don't know the answer, say that you\n",
    "    don't know.Keep the answer concise.\n",
    "    \\n\\n\n",
    "    {context}\n",
    "    \"\"\"\n",
    ")\n",
    "prompt = ChatPromptTemplate.from_messages(\n",
    "    [\n",
    "        (\"system\", system_prompt),\n",
    "        (\"human\", \"{input}\"),\n",
    "    ]\n",
    ")"
   ]
  },
  {
   "cell_type": "code",
   "execution_count": 42,
   "id": "e3aad055-6e65-428c-b134-218b2198950f",
   "metadata": {},
   "outputs": [],
   "source": [
    "# Chain the pieces together\n",
    "question_answer_chain = create_stuff_documents_chain(llm, prompt)\n",
    "rag_chain = create_retrieval_chain(retriever, question_answer_chain)"
   ]
  },
  {
   "cell_type": "code",
   "execution_count": 47,
   "id": "f5e04e08-b81d-4d60-9577-e10810884766",
   "metadata": {},
   "outputs": [
    {
     "data": {
      "text/plain": [
       "{'input': 'What does tiger thinks?',\n",
       " 'context': [Document(page_content='The tiger behind the bars of his cage growls,\\nThe tiger behind the bars of his cage snarls,\\nThe tiger behind the bars of his cage roars.\\nThen he thinks.\\nIt would be nice not to be behind bars all\\nThe time\\nBecause they spoil my view\\nI wish I were wild, not on show.\\nBut if I were wild, hunters might shoot me,\\nBut if I were wild, food might poison me,\\nBut if I were wild, water might drown me.\\nThen he stops thinking\\nAnd...\\nThe tiger behind the bars of his cage growls,\\nThe tiger behind the bars of his cage snarls,\\nThe tiger behind the bars of his cage roars .\\nPETER NIBLETT\\n30First Flight\\nRationalised 2023-24', metadata={'source': './sample_data/jeff102.pdf', 'page': 14}),\n",
       "  Document(page_content='A T A TA TA TA Tiger in the Zooiger in the Zooiger in the Zooiger in the Zooiger in the Zoo\\nThis poem contrasts a tiger in the zoo with the tiger in its natural\\nhabitat. The poem moves from the zoo to the jungle, and back again\\nto the zoo. Read the poem silently once, and say which stanzas\\nspeak about the tiger in the zoo, and which ones speak about the\\ntiger in the jungle.\\nHe stalks in his vivid stripes\\nThe few steps of his cage,\\nOn pads of velvet quiet,\\nIn his quiet rage.\\nHe should be lurking in shadow,\\nSliding through long grass\\nNear the water hole\\nWhere plump deer pass.\\nHe should be snarling around houses\\nAt the jungle’s edge,\\nBaring his white fangs, his claws,\\nTerrorising the village!\\nBut he’s locked in a concrete cell,\\nHis strength behind bars,\\nStalking the length of his cage,\\nIgnoring visitors.\\nHe hears the last voice at night,\\nThe patrolling cars,\\nAnd stares with his brilliant eyes\\nAt the brilliant stars.\\nLESLIE NORRIS\\nRationalised 2023-24', metadata={'source': './sample_data/jeff102.pdf', 'page': 13}),\n",
       "  Document(page_content='snarls: makes an angry, warning sound\\n1.Read the poem again, and work in pairs or groups to do the following tasks.\\n(i)Find the words that describe the movements and actions of the tiger in\\nthe cage and in the wild. Arrange them in two columns.\\n(ii)Find the words that describe the two places, and arrange them in two\\ncolumns.\\nNow try to share ideas about how the poet uses words and images to contrast\\nthe two situations.\\n2.Notice the use of a word repeated in lines such as these:\\n(i)On pads of velvet quiet,\\nIn his quiet rage.\\n(ii)And stares with his brilliant eyes\\nAt the brilliant stars.\\nWhat do you think is the effect of this repetition?\\n3.Read the following two poems — one about a tiger and the other about a\\npanther . Then discuss:\\nAre zoos necessary for the protection or conservation of some species of\\nanimals? Are they useful for educating the public? Are there alternatives\\nto zoos?\\nThe Tiger\\nThe tiger behind the bars of his cage growls,\\nThe tiger behind the bars of his cage snarls,', metadata={'source': './sample_data/jeff102.pdf', 'page': 14}),\n",
       "  Document(page_content='The Panther\\nHis vision, from the constantly passing bars,\\nhas grown so weary that it cannot hold\\nanything else. It seems to him there are\\na thousand bars; and behind the bars, no world.\\nAs he paces in cramped cir cles, over and over ,\\nthe movement of his powerful soft strides\\nis like a ritual dance around a centre\\nin which a mighty will stands paralysed.\\nOnly at times, the curtain of the pupils\\nlifts, quietly. An image enters in,\\nrushes down through the tensed, arrested muscles,\\nplunges into the heart and is gone.\\nRAINER MARIA RILKE\\n4.Take a point of view for or against zoos, or even consider both points of view\\nand write a couple of paragraphs or speak about this topic for a couple of\\nminutes in class.\\nVICTORIA SACKVILLE -WESTThe Greater Cats\\nThe greater cats with golden eyes\\nStare out between the bars.\\nDeserts are there, and different skies,\\nAnd night with different stars.\\n31 A Tiger in the Zoo\\nRationalised 2023-24', metadata={'source': './sample_data/jeff102.pdf', 'page': 15})],\n",
       " 'answer': 'The tiger thinks that it would be nice not to be behind bars all the time because it spoils his view. He wishes he were wild, not on show, but he also worries about the dangers of being wild, such as hunters, poisoned food, and drowning in water.'}"
      ]
     },
     "execution_count": 47,
     "metadata": {},
     "output_type": "execute_result"
    }
   ],
   "source": [
    "results = rag_chain.invoke({\"input\": \"What does tiger thinks?\"})\n",
    "results"
   ]
  },
  {
   "cell_type": "code",
   "execution_count": 48,
   "id": "f3bdf129-4b32-480f-ad3d-2cbcdafc6979",
   "metadata": {},
   "outputs": [
    {
     "name": "stdout",
     "output_type": "stream",
     "text": [
      "Question: What does tiger thinks?\n",
      "Answer: The tiger thinks that it would be nice not to be behind bars all the time because it spoils his view. He wishes he were wild, not on show, but he also worries about the dangers of being wild, such as hunters, poisoned food, and drowning in water.\n"
     ]
    }
   ],
   "source": [
    "print(f\"Question: {results['input']}\")\n",
    "print(f\"Answer: {results['answer']}\")"
   ]
  },
  {
   "cell_type": "code",
   "execution_count": 37,
   "id": "16d7557a-6d26-4ad2-85f7-2d1045323209",
   "metadata": {},
   "outputs": [
    {
     "name": "stdout",
     "output_type": "stream",
     "text": [
      "Question: what are earthen pots?\n",
      "Answer: Earthen pots are containers made from clay or soil that have been shaped and then fired at high temperatures to harden them. They are commonly used for cooking, storage, and decoration, and are known for their natural insulating properties and ability to retain moisture.\n"
     ]
    }
   ],
   "source": [
    "print(f\"Question: {results['input']}\")\n",
    "print(f\"Answer: {results['answer']}\")"
   ]
  },
  {
   "cell_type": "code",
   "execution_count": 46,
   "id": "987cc300-54ea-4974-96ae-46152e7fde4a",
   "metadata": {},
   "outputs": [
    {
     "name": "stdout",
     "output_type": "stream",
     "text": [
      "Question: What is emancipation?\n",
      "Answer: Emancipation is the process of being set free from legal, social, or political restrictions; it often refers to the liberation of individuals from slavery or oppression, allowing them to enjoy freedom and equal rights.\n"
     ]
    }
   ],
   "source": [
    "print(f\"Question: {results['input']}\")\n",
    "print(f\"Answer: {results['answer']}\")"
   ]
  },
  {
   "cell_type": "code",
   "execution_count": null,
   "id": "a14c5267-5bb2-47db-ba3b-f33e1094b3f6",
   "metadata": {},
   "outputs": [],
   "source": []
  },
  {
   "cell_type": "code",
   "execution_count": null,
   "id": "88eaee99-d09c-4915-a68d-c6ced0b98849",
   "metadata": {},
   "outputs": [],
   "source": []
  },
  {
   "cell_type": "code",
   "execution_count": null,
   "id": "84fe4aa4-45c0-4ea6-9e8e-075e03c7099e",
   "metadata": {},
   "outputs": [],
   "source": []
  },
  {
   "cell_type": "code",
   "execution_count": null,
   "id": "20bd8e61-0b7f-40d7-81fe-811ebfc81e80",
   "metadata": {},
   "outputs": [],
   "source": []
  },
  {
   "cell_type": "code",
   "execution_count": null,
   "id": "237cde8b-93d8-4c61-9054-1b9c30db126f",
   "metadata": {},
   "outputs": [],
   "source": []
  },
  {
   "cell_type": "code",
   "execution_count": null,
   "id": "9775c389-053f-45fa-a71e-cb216a994f0e",
   "metadata": {},
   "outputs": [],
   "source": []
  }
 ],
 "metadata": {
  "kernelspec": {
   "display_name": "Python 3 (ipykernel)",
   "language": "python",
   "name": "python3"
  },
  "language_info": {
   "codemirror_mode": {
    "name": "ipython",
    "version": 3
   },
   "file_extension": ".py",
   "mimetype": "text/x-python",
   "name": "python",
   "nbconvert_exporter": "python",
   "pygments_lexer": "ipython3",
   "version": "3.10.12"
  }
 },
 "nbformat": 4,
 "nbformat_minor": 5
}
